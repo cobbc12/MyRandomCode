{
 "cells": [
  {
   "cell_type": "markdown",
   "metadata": {},
   "source": [
    "<em>\n",
    "Activity developed by Camille Cobb and Lucy Simko in the UW Security & Privacy Research Lab\n",
    "\n",
    "Originally used at the CSE Open House 2017 \n",
    "\n",
    "Reuse with acknowledgement is encouraged \n",
    "\n",
    "Additional materials available at: http://camillec.com/SecretMessagesIIClues.pdf and http://camillec.com/SecretMessagesII.pdf\n",
    "\n",
    "Additional discussion of activity available at: https://wordpress.com/post/camicobb.wordpress.com/1832\n",
    "\n",
    "</em>\n",
    "<h1>Setup:</h1>"
   ]
  },
  {
   "cell_type": "code",
   "execution_count": 1,
   "metadata": {},
   "outputs": [],
   "source": [
    "from IPython.display import Image\n",
    "import random"
   ]
  },
  {
   "cell_type": "code",
   "execution_count": 35,
   "metadata": {},
   "outputs": [],
   "source": [
    "original_message = '''I AM GOING TO TELL YOU A JOKE\n",
    "\n",
    "THE JOKE IS VERY FUNNY\n",
    "\n",
    "I KNOW YOU WILL WANT TO FIGURE IT OUT\n",
    "\n",
    "YOU WILL TELL IT TO ALL OF YOUR FRIENDS\n",
    "\n",
    "THE JOKE IS ABOUT COMPUTERS\n",
    "\n",
    "WHAT DO YOU CALL A COMPUTER SUPERHERO\n",
    "\n",
    "A SCREEN SAVER\n",
    "\n",
    "DID YOU THINK THAT WAS FUNNY'''\n",
    "\n",
    "message_without_es = '''I AM GOING TO TLL YOU A JOK\n",
    "\n",
    "THE JOK IS VERY FUNNY\n",
    "\n",
    "I KNOW YOU WILL WANT TO FIGUR IT OUT\n",
    "\n",
    "YOU WILL TLL IT TO ALL OF YOUR FRINDS\n",
    "\n",
    "TH JOK IS ABOUT COMPUTRS\n",
    "\n",
    "WHAT DO YOU CALL A COMPUTR SUPRHRO\n",
    "\n",
    "A SCRN SAVR\n",
    "\n",
    "DID YOU THINK THAT WAS FUNNY'''\n",
    "\n",
    "message_no_one_letter_words = '''AM GOING TO TELL YOU A JOKE\n",
    "\n",
    "THE JOKE IS VERY FUNNY\n",
    "\n",
    "KNOW YOU WILL WANT TO FIGURE IT OUT\n",
    "\n",
    "YOU WILL TELL IT TO ALL OF YOUR FRIENDS\n",
    "\n",
    "THE JOKE IS ABOUT COMPUTERS\n",
    "\n",
    "WHAT DO YOU CALL COMPUTER SUPERHERO\n",
    "\n",
    "SCREEN SAVER\n",
    "\n",
    "DID YOU THINK THAT WAS FUNNY'''\n",
    "\n",
    "message_no_onetwothree_letter_words = '''GOING TELL JOKE\n",
    "\n",
    "JOKE VERY FUNNY\n",
    "\n",
    "KNOW WILL WANT FIGURE\n",
    "\n",
    "WILL TELL YOUR FRIENDS\n",
    "\n",
    "JOKE ABOUT COMPUTERS\n",
    "\n",
    "WHAT CALL COMPUTER SUPERHERO\n",
    "\n",
    "SCREEN SAVER\n",
    "\n",
    "THINK THAT FUNNY'''\n",
    "\n",
    "message_no_ts = '''I AM GOING O ELL YOU A JOKE\n",
    "\n",
    "HE JOKE IS VERY FUNNY\n",
    "\n",
    "I KNOW YOU WILL WAN O FIGURE I OU\n",
    "\n",
    "YOU WILL ELL I O ALL OF YOUR FRIENDS\n",
    "\n",
    "HE JOKE IS ABOU COMPUTERS\n",
    "\n",
    "WHA DO YOU CALL A COMPUTER SUPERHERO\n",
    "\n",
    "A SCREEN SAVER\n",
    "\n",
    "DID YOU HINK HA WAS FUNNY'''\n",
    "\n",
    "message_joke_only = '''WHAT DO YOU CALL A COMPUTER SUPERHERO\n",
    "\n",
    "A SCREEN SAVER'''\n",
    "\n",
    "message_no_spaces = str('IAMGOINGTOTELLYOUAJOKE'+'THEJOKEISVERYFUNNY'+'IKNOWYOUWILLWANTTOFIGUREITOUT'+\n",
    "                     'YOUWILLTELLITTOALLOFYOURFRIENDS'+'THEJOKEISABOUTCOMPUTERS'+'WHATDOYOUCALLACOMPUTERSUPERHERO'+\n",
    "                     'ASCREENSAVER'+'DIDYOUTHINKTHATWASFUNNY')\n",
    "\n",
    "message_scrambled = '''I MA GNIOG TO TELL UYO A JOKE \n",
    "\n",
    "THE JKOE IS VERY FNNUY \n",
    "\n",
    "I KNOW OUY WLIL WNAT TO FGIURE IT UOT \n",
    "\n",
    "YOU WLIL TELL TI TO LAL OF YOUR FNRIDES \n",
    "\n",
    "HTE JKOE SI AUBOT CMUOETPRS \n",
    "\n",
    "WHAT OD OYU CALL A CUMTOEPR SREUEPHRO \n",
    "\n",
    "A SRCEEN SAEVR \n",
    "\n",
    "DID OUY THINK THAT ASW FNNUY '''"
   ]
  },
  {
   "cell_type": "code",
   "execution_count": 3,
   "metadata": {},
   "outputs": [],
   "source": [
    "symbols = ['\\u2661', '\\u2658', '\\u2691', '\\u2601', '\\u260E', '\\u261A', '\\u2606', '\\u2609', '\\u2602', \n",
    "           '\\u2668', '\\u2669', '\\u267A', '\\u263D', '\\u2655', '\\u2647', '\\u2617', '\\u2695', '\\u263A', \n",
    "           '\\u2603', '\\u2666', '\\u261F', '\\u263F', '\\u2646', '\\u260D', '\\u260A', '\\u2659']  "
   ]
  },
  {
   "cell_type": "code",
   "execution_count": 4,
   "metadata": {},
   "outputs": [],
   "source": [
    "def encode_letters_to_symbols(message, alphabet='ABCDEFGHIJKLMNOPQRSTUVWXYZ'): \n",
    "    message = str(message)\n",
    "    dictionary = dict(zip(alphabet, symbols))\n",
    "    for letter in dictionary.keys():\n",
    "        message = message.replace(letter, dictionary[letter])\n",
    "    message = message.replace(' ', '  ')\n",
    "    return message"
   ]
  },
  {
   "cell_type": "code",
   "execution_count": 98,
   "metadata": {},
   "outputs": [],
   "source": [
    "secret_message = encode_letters_to_symbols(original_message)\n",
    "\n",
    "secret_message_without_es = encode_letters_to_symbols(message_without_es)\n",
    "\n",
    "secret_message_no_one_letter_words = encode_letters_to_symbols(message_no_one_letter_words)\n",
    "\n",
    "secret_message_no_onetwothree_letter_words = encode_letters_to_symbols(message_no_onetwothree_letter_words)\n",
    "\n",
    "secret_message_no_ts = encode_letters_to_symbols(message_no_ts)\n",
    "\n",
    "secret_message_joke_only = encode_letters_to_symbols(message_joke_only)\n",
    "\n",
    "secret_message_no_spaces = encode_letters_to_symbols(message_no_spaces)\n",
    "\n",
    "secret_message_scrambled = encode_letters_to_symbols(message_scrambled)"
   ]
  },
  {
   "cell_type": "code",
   "execution_count": 105,
   "metadata": {},
   "outputs": [],
   "source": [
    "# arguments for alphabet should be one of these (not well-enforced in the code, though):  \n",
    "# 'random', \n",
    "# 'decode', \n",
    "#'dict' (you must also pass in a dictionary in that case), \n",
    "# or a string that contains all lettesr of the alphabet.\n",
    "def encode_symbols_to_letters(message, alphabet='random', symbol_to_letter='n/a'):\n",
    "    message = str(message)\n",
    "    if alphabet == 'random':\n",
    "        alphabet = sorted(list('ABCDEFGHIJKLMNOPQRSTUVWXYZ'), key = lambda x: random.random())\n",
    "        symbol_to_new_letter =  dict(zip(symbols, alphabet))\n",
    "    elif alphabet == 'decode': \n",
    "        symbol_to_new_letter = dict(zip(symbols, 'ABCDEFGHIJKLMNOPQRSTUVWXYZ'))\n",
    "    elif alphabet == 'dict' and type(symbol_to_letter) is dict and len(symbol_to_letter.keys()) is 26: \n",
    "        symbol_to_new_letter = symbol_to_letter\n",
    "    elif len(set(list(alphabet))) is 26: \n",
    "        symbol_to_new_letter = dict(zip(symbols, alphabet))\n",
    "    else: \n",
    "        print ('This might not work, you may have given bad arguments.')\n",
    "        symbol_to_new_letter = dict(zip(symbols, alphabet))\n",
    "        \n",
    "    for symbol in symbol_to_new_letter.keys():\n",
    "        message = message.replace(symbol, symbol_to_new_letter[symbol])\n",
    "    message = message.replace('  ', ' ')\n",
    "    return message"
   ]
  },
  {
   "cell_type": "code",
   "execution_count": 37,
   "metadata": {},
   "outputs": [
    {
     "name": "stdout",
     "output_type": "stream",
     "text": [
      "I AM GOING TO TELL YOU A JOKE\n",
      "\n",
      "THE JOKE IS VERY FUNNY\n",
      "\n",
      "I KNOW YOU WILL WANT TO FIGURE IT OUT\n",
      "\n",
      "YOU WILL TELL IT TO ALL OF YOUR FRIENDS\n",
      "\n",
      "THE JOKE IS ABOUT COMPUTERS\n",
      "\n",
      "WHAT DO YOU CALL A COMPUTER SUPERHERO\n",
      "\n",
      "A SCREEN SAVER\n",
      "\n",
      "DID YOU THINK THAT WAS FUNNY\n",
      "*********\n",
      "X EO GCXLG SC SJRR WCN E VCYJ\n",
      "\n",
      "SFJ VCYJ XD IJMW BNLLW\n",
      "\n",
      "X YLCT WCN TXRR TELS SC BXGNMJ XS CNS\n",
      "\n",
      "WCN TXRR SJRR XS SC ERR CB WCNM BMXJLKD\n",
      "\n",
      "SFJ VCYJ XD EACNS HCOQNSJMD\n",
      "\n",
      "TFES KC WCN HERR E HCOQNSJM DNQJMFJMC\n",
      "\n",
      "E DHMJJL DEIJM\n",
      "\n",
      "KXK WCN SFXLY SFES TED BNLLW\n"
     ]
    }
   ],
   "source": [
    "print (encode_symbols_to_letters(encode_letters_to_symbols(original_message), 'decode'))\n",
    "print ('*********')\n",
    "print (encode_symbols_to_letters(encode_letters_to_symbols(original_message), 'random'))"
   ]
  },
  {
   "cell_type": "code",
   "execution_count": 80,
   "metadata": {},
   "outputs": [],
   "source": [
    "def decode_letters_to_letters_with_website_key(secret_message, key):\n",
    "    key = key.upper() + ' '\n",
    "    alphabet = 'ABCDEFGHIJKLMNOPQRSTUVWXYZ '\n",
    "    dictionary = dict(zip(key, alphabet))\n",
    "    #print (dictionary)\n",
    "    #print (secret_message)\n",
    "    solved_message = '' \n",
    "    for char in secret_message:\n",
    "        if char is '\\n': \n",
    "            solved_message = solved_message + '\\n'\n",
    "        else: \n",
    "            solved_message = solved_message + dictionary[char]\n",
    "    return solved_message"
   ]
  },
  {
   "cell_type": "code",
   "execution_count": 24,
   "metadata": {},
   "outputs": [],
   "source": [
    "## used in the production of the scrambled message, pasted above, but not elsewhere\n",
    "\n",
    "def randomize_str(str):\n",
    "    a = range(len(str))\n",
    "    b = sorted(list(str), key = lambda x: random.random())\n",
    "    return ''.join(b)\n",
    "\n",
    "def slightly_less_randomize_str(str):\n",
    "    if len(str) <= 3: \n",
    "        return randomize_str(str)\n",
    "    return str[0] + randomize_str(str[1:-1]) + str[-1]\n",
    "\n",
    "def scramble_message(message): \n",
    "    message_words = message.replace('\\n', ' ').split(' ')\n",
    "    message_words = list(filter(lambda a: a is not '', message_words))\n",
    "    slightly_less_scrambled_message = ''\n",
    "    for word in message_words: \n",
    "        slightly_less_scrambled_message = slightly_less_scrambled_message + slightly_less_randomize_str(word) + ' '\n",
    "    return slightly_less_scrambled_message"
   ]
  },
  {
   "cell_type": "markdown",
   "metadata": {},
   "source": [
    "<h1>Demo starts here:</h1> \n",
    "\n",
    "\n",
    "<h3> This is a secret message:  </h3>"
   ]
  },
  {
   "cell_type": "code",
   "execution_count": 63,
   "metadata": {},
   "outputs": [
    {
     "name": "stdout",
     "output_type": "stream",
     "text": [
      "☂  ♡☽  ☆♇☂♕☆  ♦♇  ♦☎♺♺  ☊♇☟  ♡  ♨♇♩☎\n",
      "\n",
      "♦☉☎  ♨♇♩☎  ☂☃  ☿☎☺☊  ☚☟♕♕☊\n",
      "\n",
      "☂  ♩♕♇♆  ☊♇☟  ♆☂♺♺  ♆♡♕♦  ♦♇  ☚☂☆☟☺☎  ☂♦  ♇☟♦\n",
      "\n",
      "☊♇☟  ♆☂♺♺  ♦☎♺♺  ☂♦  ♦♇  ♡♺♺  ♇☚  ☊♇☟☺  ☚☺☂☎♕☁☃\n",
      "\n",
      "♦☉☎  ♨♇♩☎  ☂☃  ♡♘♇☟♦  ⚑♇☽☗☟♦☎☺☃\n",
      "\n",
      "♆☉♡♦  ☁♇  ☊♇☟  ⚑♡♺♺  ♡  ⚑♇☽☗☟♦☎☺  ☃☟☗☎☺☉☎☺♇\n",
      "\n",
      "♡  ☃⚑☺☎☎♕  ☃♡☿☎☺\n",
      "\n",
      "☁☂☁  ☊♇☟  ♦☉☂♕♩  ♦☉♡♦  ♆♡☃  ☚☟♕♕☊\n"
     ]
    }
   ],
   "source": [
    "print (secret_message)"
   ]
  },
  {
   "cell_type": "markdown",
   "metadata": {},
   "source": [
    "<h3>What if we replaced those crazy symbols with letters, just so we can write it more easily?</h3>\n",
    "<h3>Letters are just symbols, after all.</h3> "
   ]
  },
  {
   "cell_type": "code",
   "execution_count": 55,
   "metadata": {},
   "outputs": [],
   "source": [
    "symbol_to_temporary_letter = {'☁': 'A',\n",
    "                              '☟': 'B',\n",
    "                              '⚑': 'C',\n",
    "                              '☽': 'D',\n",
    "                              '☃': 'E',\n",
    "                              '♆': 'F',\n",
    "                              '☎': 'G',\n",
    "                              '♺': 'H',\n",
    "                              '☍': 'I',\n",
    "                              '♘': 'J',\n",
    "                              '♕': 'K',\n",
    "                              '☿': 'L',\n",
    "                              '☉': 'M',\n",
    "                              '☚': 'N',\n",
    "                              '♨': 'O',\n",
    "                              '⚕': 'P',\n",
    "                              '☺': 'Q',\n",
    "                              '☂': 'R',\n",
    "                              '♡': 'S',\n",
    "                              '☗': 'T',\n",
    "                              '♦': 'U',\n",
    "                              '☆': 'V',\n",
    "                              '♙': 'W',\n",
    "                              '♇': 'X',\n",
    "                              '♩': 'Y',\n",
    "                              '☊': 'Z'}"
   ]
  },
  {
   "cell_type": "code",
   "execution_count": 107,
   "metadata": {},
   "outputs": [
    {
     "name": "stdout",
     "output_type": "stream",
     "text": [
      "R SD VXRKV UX UGHH ZXB S OXYG\n",
      "\n",
      "UMG OXYG RE LGQZ NBKKZ\n",
      "\n",
      "R YKXF ZXB FRHH FSKU UX NRVBQG RU XBU\n",
      "\n",
      "ZXB FRHH UGHH RU UX SHH XN ZXBQ NQRGKAE\n",
      "\n",
      "UMG OXYG RE SJXBU CXDTBUGQE\n",
      "\n",
      "FMSU AX ZXB CSHH S CXDTBUGQ EBTGQMGQX\n",
      "\n",
      "S ECQGGK ESLGQ\n",
      "\n",
      "ARA ZXB UMRKY UMSU FSE NBKKZ\n"
     ]
    }
   ],
   "source": [
    "secret_message_in_letters = encode_symbols_to_letters(encode_letters_to_symbols(original_message), \n",
    "                                                      'dict', symbol_to_temporary_letter)\n",
    "print (secret_message_in_letters)"
   ]
  },
  {
   "cell_type": "markdown",
   "metadata": {},
   "source": [
    "<h3> Copy and paste the message above to: </h3> \n",
    "<h3> https://www.guballa.de/substitution-solver </h3>\n",
    "<h3> And specify that the message is in English. </h3\n",
    "\n",
    "<h3>Did it successfully solve the code? </h3> \n",
    "\n",
    "<h3>If you want, copy and paste the key from that website into the 'key' string below. </h3> "
   ]
  },
  {
   "cell_type": "code",
   "execution_count": 84,
   "metadata": {},
   "outputs": [
    {
     "name": "stdout",
     "output_type": "stream",
     "text": [
      "I AM GOING TO TELL YOU A JOKE\n",
      "\n",
      "THE JOKE IS VERY FUNNY\n",
      "\n",
      "I KNOW YOU WILL WANT TO FIGURE IT OUT\n",
      "\n",
      "YOU WILL TELL IT TO ALL OF YOUR FRIENDS\n",
      "\n",
      "THE JOKE IS ABOUT COMPUTERS\n",
      "\n",
      "WHAT DO YOU CALL A COMPUTER SUPERHERO\n",
      "\n",
      "A SCREEN SAVER\n",
      "\n",
      "DID YOU THINK THAT WAS FUNNY\n"
     ]
    }
   ],
   "source": [
    "key = 'sjcagnvmroyhdkxtiqeublfpzw'\n",
    "print (decode_letters_to_letters_with_website_key(secret_message_in_letters, key))"
   ]
  },
  {
   "cell_type": "markdown",
   "metadata": {},
   "source": [
    "<em>Note, at the bottom of the webpage, it says solving this had a runtime of 0.033 seconds and has a \"fitness\" score of 95.86</em>"
   ]
  },
  {
   "cell_type": "markdown",
   "metadata": {},
   "source": [
    "<h3>Now try solving harder versions of the message.</h3>\n",
    "(If you use this part and have changed the symbol_to_temporary_letter dictionary above, these may not be the same encoding.) \n",
    "<h5>Message without spaces: </h5>"
   ]
  },
  {
   "cell_type": "code",
   "execution_count": 85,
   "metadata": {},
   "outputs": [
    {
     "name": "stdout",
     "output_type": "stream",
     "text": [
      "☂♡☽☆♇☂♕☆♦♇♦☎♺♺☊♇☟♡♨♇♩☎♦☉☎♨♇♩☎☂☃☿☎☺☊☚☟♕♕☊☂♩♕♇♆☊♇☟♆☂♺♺♆♡♕♦♦♇☚☂☆☟☺☎☂♦♇☟♦☊♇☟♆☂♺♺♦☎♺♺☂♦♦♇♡♺♺♇☚☊♇☟☺☚☺☂☎♕☁☃♦☉☎♨♇♩☎☂☃♡♘♇☟♦⚑♇☽☗☟♦☎☺☃♆☉♡♦☁♇☊♇☟⚑♡♺♺♡⚑♇☽☗☟♦☎☺☃☟☗☎☺☉☎☺♇♡☃⚑☺☎☎♕☃♡☿☎☺☁☂☁☊♇☟♦☉☂♕♩♦☉♡♦♆♡☃☚☟♕♕☊\n"
     ]
    }
   ],
   "source": [
    "print (secret_message_no_spaces)"
   ]
  },
  {
   "cell_type": "code",
   "execution_count": 110,
   "metadata": {},
   "outputs": [
    {
     "name": "stdout",
     "output_type": "stream",
     "text": [
      "RSDVXRKVUXUGHHZXBSOXYGUMGOXYGRELGQZNBKKZRYKXFZXBFRHHFSKUUXNRVBQGRUXBUZXBFRHHUGHHRUUXSHHXNZXBQNQRGKAEUMGOXYGRESJXBUCXDTBUGQEFMSUAXZXBCSHHSCXDTBUGQEBTGQMGQXSECQGGKESLGQARAZXBUMRKYUMSUFSENBKKZ\n"
     ]
    }
   ],
   "source": [
    "print(encode_symbols_to_letters(secret_message_no_spaces, 'dict', symbol_to_temporary_letter))"
   ]
  },
  {
   "cell_type": "code",
   "execution_count": null,
   "metadata": {},
   "outputs": [],
   "source": []
  },
  {
   "cell_type": "markdown",
   "metadata": {},
   "source": [
    "<em>Note, at the bottom of the webpage, it says solving this had a runtime of 0.04 seconds and has a \"fitness\" score of 95.86</em>"
   ]
  },
  {
   "cell_type": "markdown",
   "metadata": {},
   "source": [
    "<h5>Message without one-letter words: </h5> "
   ]
  },
  {
   "cell_type": "code",
   "execution_count": 102,
   "metadata": {},
   "outputs": [
    {
     "name": "stdout",
     "output_type": "stream",
     "text": [
      "♡☽  ☆♇☂♕☆  ♦♇  ♦☎♺♺  ☊♇☟  ♡  ♨♇♩☎\n",
      "\n",
      "♦☉☎  ♨♇♩☎  ☂☃  ☿☎☺☊  ☚☟♕♕☊\n",
      "\n",
      "♩♕♇♆  ☊♇☟  ♆☂♺♺  ♆♡♕♦  ♦♇  ☚☂☆☟☺☎  ☂♦  ♇☟♦\n",
      "\n",
      "☊♇☟  ♆☂♺♺  ♦☎♺♺  ☂♦  ♦♇  ♡♺♺  ♇☚  ☊♇☟☺  ☚☺☂☎♕☁☃\n",
      "\n",
      "♦☉☎  ♨♇♩☎  ☂☃  ♡♘♇☟♦  ⚑♇☽☗☟♦☎☺☃\n",
      "\n",
      "♆☉♡♦  ☁♇  ☊♇☟  ⚑♡♺♺  ⚑♇☽☗☟♦☎☺  ☃☟☗☎☺☉☎☺♇\n",
      "\n",
      "☃⚑☺☎☎♕  ☃♡☿☎☺\n",
      "\n",
      "☁☂☁  ☊♇☟  ♦☉☂♕♩  ♦☉♡♦  ♆♡☃  ☚☟♕♕☊\n"
     ]
    }
   ],
   "source": [
    "print (secret_message_no_one_letter_words)"
   ]
  },
  {
   "cell_type": "code",
   "execution_count": 111,
   "metadata": {},
   "outputs": [
    {
     "name": "stdout",
     "output_type": "stream",
     "text": [
      "SD VXRKV UX UGHH ZXB S OXYG\n",
      "\n",
      "UMG OXYG RE LGQZ NBKKZ\n",
      "\n",
      "YKXF ZXB FRHH FSKU UX NRVBQG RU XBU\n",
      "\n",
      "ZXB FRHH UGHH RU UX SHH XN ZXBQ NQRGKAE\n",
      "\n",
      "UMG OXYG RE SJXBU CXDTBUGQE\n",
      "\n",
      "FMSU AX ZXB CSHH CXDTBUGQ EBTGQMGQX\n",
      "\n",
      "ECQGGK ESLGQ\n",
      "\n",
      "ARA ZXB UMRKY UMSU FSE NBKKZ\n"
     ]
    }
   ],
   "source": [
    "print (encode_symbols_to_letters(secret_message_no_one_letter_words, 'dict', symbol_to_temporary_letter))"
   ]
  },
  {
   "cell_type": "code",
   "execution_count": null,
   "metadata": {},
   "outputs": [],
   "source": []
  },
  {
   "cell_type": "markdown",
   "metadata": {},
   "source": [
    "<em>Note, at the bottom of the webpage, it says solving this had a runtime of 0.018 seconds and has a \"fitness\" score of 96.29</em>"
   ]
  },
  {
   "cell_type": "markdown",
   "metadata": {},
   "source": [
    "<h5>Message without two- and three-letter words: </h5> "
   ]
  },
  {
   "cell_type": "code",
   "execution_count": 113,
   "metadata": {},
   "outputs": [
    {
     "name": "stdout",
     "output_type": "stream",
     "text": [
      "☆♇☂♕☆  ♦☎♺♺  ♨♇♩☎\n",
      "\n",
      "♨♇♩☎  ☿☎☺☊  ☚☟♕♕☊\n",
      "\n",
      "♩♕♇♆  ♆☂♺♺  ♆♡♕♦  ☚☂☆☟☺☎\n",
      "\n",
      "♆☂♺♺  ♦☎♺♺  ☊♇☟☺  ☚☺☂☎♕☁☃\n",
      "\n",
      "♨♇♩☎  ♡♘♇☟♦  ⚑♇☽☗☟♦☎☺☃\n",
      "\n",
      "♆☉♡♦  ⚑♡♺♺  ⚑♇☽☗☟♦☎☺  ☃☟☗☎☺☉☎☺♇\n",
      "\n",
      "☃⚑☺☎☎♕  ☃♡☿☎☺\n",
      "\n",
      "♦☉☂♕♩  ♦☉♡♦  ☚☟♕♕☊\n"
     ]
    }
   ],
   "source": [
    "print (secret_message_no_onetwothree_letter_words)"
   ]
  },
  {
   "cell_type": "code",
   "execution_count": 112,
   "metadata": {},
   "outputs": [
    {
     "name": "stdout",
     "output_type": "stream",
     "text": [
      "VXRKV UGHH OXYG\n",
      "\n",
      "OXYG LGQZ NBKKZ\n",
      "\n",
      "YKXF FRHH FSKU NRVBQG\n",
      "\n",
      "FRHH UGHH ZXBQ NQRGKAE\n",
      "\n",
      "OXYG SJXBU CXDTBUGQE\n",
      "\n",
      "FMSU CSHH CXDTBUGQ EBTGQMGQX\n",
      "\n",
      "ECQGGK ESLGQ\n",
      "\n",
      "UMRKY UMSU NBKKZ\n"
     ]
    }
   ],
   "source": [
    "print (encode_symbols_to_letters(secret_message_no_onetwothree_letter_words, 'dict', symbol_to_temporary_letter))"
   ]
  },
  {
   "cell_type": "code",
   "execution_count": null,
   "metadata": {},
   "outputs": [],
   "source": []
  },
  {
   "cell_type": "markdown",
   "metadata": {},
   "source": [
    "<em>Note, at the bottom of the webpage, it says solving this had a runtime of 0.064 seconds and has a \"fitness\" score of 95.43</em>"
   ]
  },
  {
   "cell_type": "markdown",
   "metadata": {},
   "source": [
    "<h5>Just the joke part of the message: </h5> "
   ]
  },
  {
   "cell_type": "code",
   "execution_count": 89,
   "metadata": {},
   "outputs": [
    {
     "name": "stdout",
     "output_type": "stream",
     "text": [
      "♆☉♡♦  ☁♇  ☊♇☟  ⚑♡♺♺  ♡  ⚑♇☽☗☟♦☎☺  ☃☟☗☎☺☉☎☺♇\n",
      "\n",
      "♡  ☃⚑☺☎☎♕  ☃♡☿☎☺\n"
     ]
    }
   ],
   "source": [
    "print (secret_message_joke_only)"
   ]
  },
  {
   "cell_type": "code",
   "execution_count": 114,
   "metadata": {},
   "outputs": [
    {
     "name": "stdout",
     "output_type": "stream",
     "text": [
      "FMSU AX ZXB CSHH S CXDTBUGQ EBTGQMGQX\n",
      "\n",
      "S ECQGGK ESLGQ\n"
     ]
    }
   ],
   "source": [
    "print (encode_symbols_to_letters(secret_message_joke_only, 'dict', symbol_to_temporary_letter))"
   ]
  },
  {
   "cell_type": "code",
   "execution_count": null,
   "metadata": {},
   "outputs": [],
   "source": []
  },
  {
   "cell_type": "markdown",
   "metadata": {},
   "source": [
    "<em>Note, at the bottom of the webpage, it says solving this had a runtime of 0.157 seconds and has a \"fitness\" score of 99.20</em>\n",
    "\n",
    "<em>Also note that it did not solve the message correctly!</em>"
   ]
  },
  {
   "cell_type": "markdown",
   "metadata": {},
   "source": [
    "<h5>Message without Ts</h5>"
   ]
  },
  {
   "cell_type": "code",
   "execution_count": 116,
   "metadata": {},
   "outputs": [
    {
     "name": "stdout",
     "output_type": "stream",
     "text": [
      "☂  ♡☽  ☆♇☂♕☆  ♇  ☎♺♺  ☊♇☟  ♡  ♨♇♩☎\n",
      "\n",
      "☉☎  ♨♇♩☎  ☂☃  ☿☎☺☊  ☚☟♕♕☊\n",
      "\n",
      "☂  ♩♕♇♆  ☊♇☟  ♆☂♺♺  ♆♡♕  ♇  ☚☂☆☟☺☎  ☂  ♇☟\n",
      "\n",
      "☊♇☟  ♆☂♺♺  ☎♺♺  ☂  ♇  ♡♺♺  ♇☚  ☊♇☟☺  ☚☺☂☎♕☁☃\n",
      "\n",
      "☉☎  ♨♇♩☎  ☂☃  ♡♘♇☟  ⚑♇☽☗☟♦☎☺☃\n",
      "\n",
      "♆☉♡  ☁♇  ☊♇☟  ⚑♡♺♺  ♡  ⚑♇☽☗☟♦☎☺  ☃☟☗☎☺☉☎☺♇\n",
      "\n",
      "♡  ☃⚑☺☎☎♕  ☃♡☿☎☺\n",
      "\n",
      "☁☂☁  ☊♇☟  ☉☂♕♩  ☉♡  ♆♡☃  ☚☟♕♕☊\n"
     ]
    }
   ],
   "source": [
    "print (secret_message_no_ts)"
   ]
  },
  {
   "cell_type": "code",
   "execution_count": 119,
   "metadata": {},
   "outputs": [
    {
     "name": "stdout",
     "output_type": "stream",
     "text": [
      "R SD VXRKV X GHH ZXB S OXYG\n",
      "\n",
      "MG OXYG RE LGQZ NBKKZ\n",
      "\n",
      "R YKXF ZXB FRHH FSK X NRVBQG R XB\n",
      "\n",
      "ZXB FRHH GHH R X SHH XN ZXBQ NQRGKAE\n",
      "\n",
      "MG OXYG RE SJXB CXDTBUGQE\n",
      "\n",
      "FMS AX ZXB CSHH S CXDTBUGQ EBTGQMGQX\n",
      "\n",
      "S ECQGGK ESLGQ\n",
      "\n",
      "ARA ZXB MRKY MS FSE NBKKZ\n"
     ]
    }
   ],
   "source": [
    "print (encode_symbols_to_letters(secret_message_no_ts, 'dict', symbol_to_temporary_letter))"
   ]
  },
  {
   "cell_type": "code",
   "execution_count": null,
   "metadata": {},
   "outputs": [],
   "source": []
  },
  {
   "cell_type": "markdown",
   "metadata": {},
   "source": [
    "<em>Note, at the bottom of the webpage, it says solving this had a runtime of 0.757 seconds and has a \"fitness\" score of 90.05</em>"
   ]
  },
  {
   "cell_type": "markdown",
   "metadata": {},
   "source": [
    "<h5>Message without Es</h5>"
   ]
  },
  {
   "cell_type": "code",
   "execution_count": 118,
   "metadata": {},
   "outputs": [
    {
     "name": "stdout",
     "output_type": "stream",
     "text": [
      "☂  ♡☽  ☆♇☂♕☆  ♦♇  ♦♺♺  ☊♇☟  ♡  ♨♇♩\n",
      "\n",
      "♦☉☎  ♨♇♩  ☂☃  ☿☎☺☊  ☚☟♕♕☊\n",
      "\n",
      "☂  ♩♕♇♆  ☊♇☟  ♆☂♺♺  ♆♡♕♦  ♦♇  ☚☂☆☟☺  ☂♦  ♇☟♦\n",
      "\n",
      "☊♇☟  ♆☂♺♺  ♦♺♺  ☂♦  ♦♇  ♡♺♺  ♇☚  ☊♇☟☺  ☚☺☂♕☁☃\n",
      "\n",
      "♦☉  ♨♇♩  ☂☃  ♡♘♇☟♦  ⚑♇☽☗☟♦☺☃\n",
      "\n",
      "♆☉♡♦  ☁♇  ☊♇☟  ⚑♡♺♺  ♡  ⚑♇☽☗☟♦☺  ☃☟☗☺☉☺♇\n",
      "\n",
      "♡  ☃⚑☺♕  ☃♡☿☺\n",
      "\n",
      "☁☂☁  ☊♇☟  ♦☉☂♕♩  ♦☉♡♦  ♆♡☃  ☚☟♕♕☊\n"
     ]
    }
   ],
   "source": [
    "print (secret_message_without_es)"
   ]
  },
  {
   "cell_type": "code",
   "execution_count": 117,
   "metadata": {},
   "outputs": [
    {
     "name": "stdout",
     "output_type": "stream",
     "text": [
      "R SD VXRKV UX UHH ZXB S OXY\n",
      "\n",
      "UMG OXY RE LGQZ NBKKZ\n",
      "\n",
      "R YKXF ZXB FRHH FSKU UX NRVBQ RU XBU\n",
      "\n",
      "ZXB FRHH UHH RU UX SHH XN ZXBQ NQRKAE\n",
      "\n",
      "UM OXY RE SJXBU CXDTBUQE\n",
      "\n",
      "FMSU AX ZXB CSHH S CXDTBUQ EBTQMQX\n",
      "\n",
      "S ECQK ESLQ\n",
      "\n",
      "ARA ZXB UMRKY UMSU FSE NBKKZ\n"
     ]
    }
   ],
   "source": [
    "print (encode_symbols_to_letters(secret_message_without_es, 'dict', symbol_to_temporary_letter))"
   ]
  },
  {
   "cell_type": "code",
   "execution_count": null,
   "metadata": {},
   "outputs": [],
   "source": []
  },
  {
   "cell_type": "markdown",
   "metadata": {},
   "source": [
    "<em>Note, at the bottom of the webpage, it says solving this had a runtime of 0.284 seconds and has a \"fitness\" score of 88.05</em>\n",
    "\n",
    "<em>Also note that it did not solve the puzzle completely correctly.</em>"
   ]
  },
  {
   "cell_type": "markdown",
   "metadata": {},
   "source": [
    "<h5>Message with scrambled letters: </h5>"
   ]
  },
  {
   "cell_type": "code",
   "execution_count": 93,
   "metadata": {},
   "outputs": [
    {
     "name": "stdout",
     "output_type": "stream",
     "text": [
      "☂  ☽♡  ☆♕☂♇☆  ♦♇  ♦☎♺♺  ☟☊♇  ♡  ♨♇♩☎  \n",
      "\n",
      "♦☉☎  ♨♩♇☎  ☂☃  ☿☎☺☊  ☚♕♕☟☊  \n",
      "\n",
      "☂  ♩♕♇♆  ♇☟☊  ♆♺☂♺  ♆♕♡♦  ♦♇  ☚☆☂☟☺☎  ☂♦  ☟♇♦  \n",
      "\n",
      "☊♇☟  ♆♺☂♺  ♦☎♺♺  ♦☂  ♦♇  ♺♡♺  ♇☚  ☊♇☟☺  ☚♕☺☂☁☎☃  \n",
      "\n",
      "☉♦☎  ♨♩♇☎  ☃☂  ♡☟♘♇♦  ⚑☽☟♇☎♦☗☺☃  \n",
      "\n",
      "♆☉♡♦  ♇☁  ♇☊☟  ⚑♡♺♺  ♡  ⚑☟☽♦♇☎☗☺  ☃☺☎☟☎☗☉☺♇  \n",
      "\n",
      "♡  ☃☺⚑☎☎♕  ☃♡☎☿☺  \n",
      "\n",
      "☁☂☁  ♇☟☊  ♦☉☂♕♩  ♦☉♡♦  ♡☃♆  ☚♕♕☟☊  \n"
     ]
    }
   ],
   "source": [
    "print (secret_message_scrambled))"
   ]
  },
  {
   "cell_type": "code",
   "execution_count": 120,
   "metadata": {},
   "outputs": [
    {
     "name": "stdout",
     "output_type": "stream",
     "text": [
      "R DS VKRXV UX UGHH BZX S OXYG \n",
      "\n",
      "UMG OYXG RE LGQZ NKKBZ \n",
      "\n",
      "R YKXF XBZ FHRH FKSU UX NVRBQG RU BXU \n",
      "\n",
      "ZXB FHRH UGHH UR UX HSH XN ZXBQ NKQRAGE \n",
      "\n",
      "MUG OYXG ER SBJXU CDBXGUTQE \n",
      "\n",
      "FMSU XA XZB CSHH S CBDUXGTQ EQGBGTMQX \n",
      "\n",
      "S EQCGGK ESGLQ \n",
      "\n",
      "ARA XBZ UMRKY UMSU SEF NKKBZ \n"
     ]
    }
   ],
   "source": [
    "print (encode_symbols_to_letters(secret_message_scrambled, 'dict', symbol_to_temporary_letter))"
   ]
  },
  {
   "cell_type": "markdown",
   "metadata": {},
   "source": [
    "<em>Just to prove that</em> you <em>would have been able to understand this one in the original form, the solved version is below: </em>"
   ]
  },
  {
   "cell_type": "code",
   "execution_count": 122,
   "metadata": {},
   "outputs": [
    {
     "name": "stdout",
     "output_type": "stream",
     "text": [
      "I MA GNIOG TO TELL UYO A JOKE \n",
      "\n",
      "THE JKOE IS VERY FNNUY \n",
      "\n",
      "I KNOW OUY WLIL WNAT TO FGIURE IT UOT \n",
      "\n",
      "YOU WLIL TELL TI TO LAL OF YOUR FNRIDES \n",
      "\n",
      "HTE JKOE SI AUBOT CMUOETPRS \n",
      "\n",
      "WHAT OD OYU CALL A CUMTOEPR SREUEPHRO \n",
      "\n",
      "A SRCEEN SAEVR \n",
      "\n",
      "DID OUY THINK THAT ASW FNNUY \n"
     ]
    }
   ],
   "source": [
    "print (message_scrambled)"
   ]
  },
  {
   "cell_type": "markdown",
   "metadata": {},
   "source": [
    "<em>Note, at the bottom of the webpage, it says solving this had a runtime of 2.027 seconds and has a \"fitness\" score of 78.5</em>\n",
    "\n",
    "<em>Also note that it didn't even come close to solving the puzzle, and it knew it was wrong. </em>"
   ]
  },
  {
   "cell_type": "markdown",
   "metadata": {},
   "source": [
    "<h1>Summary:</h1> "
   ]
  },
  {
   "cell_type": "raw",
   "metadata": {},
   "source": [
    "MESSAGE             |  SOLVED CORRECTLY?   |  TIME TO SOLVE  |  \"FITNESS\" \n",
    "                    |                      |                 |\n",
    "original            |  yes                 |  0.033          |  95.86\n",
    "                    |                      |                 |\n",
    "no spaces           |  yes                 |  0.064          |  95.86\n",
    "                    |                      |                 |\n",
    "no 1-letter words   |  yes                 |  0.018          |  96.29\n",
    "                    |                      |                 |\n",
    "no 123-letter words |  yes                 |  0.064          |  95.43\n",
    "                    |                      |                 |\n",
    "just joke           |  no                  |  0.157          |  99.20\n",
    "                    |                      |                 |\n",
    "no ts               |  yes                 |  0.757          |  90.05\n",
    "                    |                      |                 |\n",
    "no es               |  mostly              |  0.284          |  88.05\n",
    "                    |                      |                 |\n",
    "scramled            |  no                  |  2.027          |  78.5"
   ]
  },
  {
   "cell_type": "code",
   "execution_count": null,
   "metadata": {},
   "outputs": [],
   "source": []
  }
 ],
 "metadata": {
  "kernelspec": {
   "display_name": "Python 3",
   "language": "python",
   "name": "python3"
  },
  "language_info": {
   "codemirror_mode": {
    "name": "ipython",
    "version": 3
   },
   "file_extension": ".py",
   "mimetype": "text/x-python",
   "name": "python",
   "nbconvert_exporter": "python",
   "pygments_lexer": "ipython3",
   "version": "3.6.4"
  }
 },
 "nbformat": 4,
 "nbformat_minor": 2
}
