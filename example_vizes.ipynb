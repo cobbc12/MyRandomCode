{
 "cells": [
  {
   "cell_type": "code",
   "execution_count": 3,
   "metadata": {},
   "outputs": [],
   "source": [
    "import time \n",
    "import datetime\n",
    "from collections import Counter\n",
    "import matplotlib.pyplot as plt\n",
    "import matplotlib.dates as mdates"
   ]
  },
  {
   "cell_type": "code",
   "execution_count": 2,
   "metadata": {},
   "outputs": [],
   "source": [
    "months = {'January': 1, 'February': 2, 'March': 3, 'April': 4, 'May': 5, 'June': 6, 'July': 7, 'August': 8, \n",
    "         'September': 9, 'October': 10, 'November': 11, 'December': 12}\n",
    "\n",
    "def convert_airdate_to_datetime(airdate_str):\n",
    "    try: \n",
    "        day, month, year, country = airdate_str.split(' ')\n",
    "        int(day)\n",
    "        months[month]\n",
    "        int(year)\n",
    "    except: \n",
    "        return 'Failed to convert to datetime'\n",
    "    d, m, y = (int(day), months[month], int(year))\n",
    "    \n",
    "    return datetime.datetime(year=y, month=m, day=d)"
   ]
  },
  {
   "cell_type": "code",
   "execution_count": 21,
   "metadata": {},
   "outputs": [],
   "source": [
    "# possible modes are \"absolute\" or \"cummulative\"\n",
    "# pass in lists of datetimes (for different keywords) \n",
    "def display_graph_airdate_freq_vs_time(lists_of_datetimes, mode=\"absolute\"): \n",
    "    fig = plt.figure()\n",
    "    ax1 = fig.add_subplot(111)\n",
    "    C = 'b'\n",
    "    LABEL = 'first'\n",
    "    \n",
    "    for list_of_datetimes in lists_of_datetimes:\n",
    "        datetimes_counts = Counter(list_of_datetimes)\n",
    "        x = sorted(datetimes_counts.keys())\n",
    "        y_temp = [datetimes_counts[i] for i in x]\n",
    "    \n",
    "        if mode == \"cummulative\":\n",
    "            y = [sum(y_temp[:i+1]) for i in range(len(y_temp))]\n",
    "        elif mode == \"absolute\":\n",
    "            y = y_temp\n",
    "        else:\n",
    "            print (\"Not a valid mode.\")\n",
    "            return\n",
    "\n",
    "        ax1.scatter(x, y, s=10, c=C, label=LABEL)\n",
    "        if C == 'b': \n",
    "            C = 'r'\n",
    "            LABEL = 'second'\n",
    "            # Need more colors/labels if you want more than 2 subplots\n",
    "        \n",
    "    plt.legend(loc='upper left');\n",
    "\n",
    "    # beautify the x-labels\n",
    "    plt.gcf().autofmt_xdate()\n",
    "    myFmt = mdates.DateFormatter('%m-%d-%y')\n",
    "    plt.gca().xaxis.set_major_formatter(myFmt)\n",
    "\n",
    "    plt"
   ]
  },
  {
   "cell_type": "code",
   "execution_count": 22,
   "metadata": {},
   "outputs": [],
   "source": [
    "datetimes_1 = [datetime.datetime(2015, 2, 13, 0, 0),\n",
    " datetime.datetime(2015, 2, 13, 0, 0),\n",
    " datetime.datetime(2015, 2, 13, 0, 0),\n",
    " datetime.datetime(2013, 2, 21, 0, 0),\n",
    " datetime.datetime(2015, 2, 2, 0, 0),\n",
    " datetime.datetime(2015, 2, 2, 0, 0),\n",
    " datetime.datetime(2015, 2, 9, 0, 0),\n",
    " datetime.datetime(2015, 2, 16, 0, 0),\n",
    " datetime.datetime(2011, 9, 19, 0, 0),\n",
    " datetime.datetime(2011, 9, 19, 0, 0)]"
   ]
  },
  {
   "cell_type": "code",
   "execution_count": 23,
   "metadata": {},
   "outputs": [],
   "source": [
    "datetimes_2 = [datetime.datetime(2013, 10, 21, 0, 0),\n",
    " datetime.datetime(2013, 11, 11, 0, 0),\n",
    " datetime.datetime(2015, 12, 17, 0, 0),\n",
    " datetime.datetime(2016, 1, 13, 0, 0),\n",
    " datetime.datetime(2016, 1, 13, 0, 0),\n",
    " datetime.datetime(2016, 1, 13, 0, 0),\n",
    " datetime.datetime(2016, 3, 10, 0, 0),\n",
    " datetime.datetime(2016, 11, 14, 0, 0),\n",
    " datetime.datetime(2016, 12, 19, 0, 0),\n",
    " datetime.datetime(2017, 4, 3, 0, 0)]"
   ]
  },
  {
   "cell_type": "code",
   "execution_count": 26,
   "metadata": {},
   "outputs": [
    {
     "data": {
      "image/png": "[encoded data removed]",
      "text/plain": [
       "<matplotlib.figure.Figure at 0x1134aa080>"
      ]
     },
     "metadata": {},
     "output_type": "display_data"
    }
   ],
   "source": [
    "display_graph_airdate_freq_vs_time([datetimes_1, datetimes_2], mode=\"cummulative\")"
   ]
  },
  {
   "cell_type": "code",
   "execution_count": 27,
   "metadata": {},
   "outputs": [
    {
     "data": {
      "image/png": "[encoded data removed]",
      "text/plain": [
       "<matplotlib.figure.Figure at 0x1134a5e80>"
      ]
     },
     "metadata": {},
     "output_type": "display_data"
    }
   ],
   "source": [
    "display_graph_airdate_freq_vs_time([datetimes_1, datetimes_2])"
   ]
  },
  {
   "cell_type": "code",
   "execution_count": null,
   "metadata": {},
   "outputs": [],
   "source": []
  }
 ],
 "metadata": {
  "kernelspec": {
   "display_name": "Python 3",
   "language": "python",
   "name": "python3"
  },
  "language_info": {
   "codemirror_mode": {
    "name": "ipython",
    "version": 3
   },
   "file_extension": ".py",
   "mimetype": "text/x-python",
   "name": "python",
   "nbconvert_exporter": "python",
   "pygments_lexer": "ipython3",
   "version": "3.6.4"
  }
 },
 "nbformat": 4,
 "nbformat_minor": 2
}
