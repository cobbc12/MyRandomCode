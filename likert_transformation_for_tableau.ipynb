{
 "cells": [
  {
   "cell_type": "code",
   "execution_count": 17,
   "metadata": {},
   "outputs": [],
   "source": [
    "import csv\n",
    "\n",
    "all_data = []\n",
    "# Real data starts at row 1 (zero-indexed) -- previous row is header\n",
    "\n",
    "with open('feb18_data_processed.csv', 'r') as original:\n",
    "    reader = csv.reader(original)\n",
    "    for row in reader:\n",
    "        all_data.append(row)"
   ]
  },
  {
   "cell_type": "code",
   "execution_count": 18,
   "metadata": {},
   "outputs": [],
   "source": [
    "with open('prefs_tableau_transformation_feb18.csv', 'w') as output:\n",
    "    writer = csv.writer(output)\n",
    "    # TODO: write header row (can be manual)\n",
    "    writer.writerow(['new pref - device', 'new pref - situation', 'new pref - real or imagined', 'new pref - numeric'] + all_data[0])\n",
    "    \n",
    "    for old_row in all_data[1:]: # the 3 here is just because first few rows of original are headers; could remove those earlier\n",
    "        new_rows = create_transformed_rows(old_row)\n",
    "        for new_row in new_rows:\n",
    "            writer.writerow(new_row)        \n"
   ]
  },
  {
   "cell_type": "code",
   "execution_count": 14,
   "metadata": {},
   "outputs": [],
   "source": [
    "existing_structure = ['duration', 'attention check 1', 'attention check 2', 'response ID', 'prolific ID', \n",
    "                     'seen camera @ home', 'seen voice @ home', 'seen lights @ home', 'seen apps @ home', 'seen none @ home', \n",
    "                     'camera owned?', 'voice owned?', 'lights owned?', 'apps owned?', 'none owned?', \n",
    "                     'seen camera @ friend', 'seen voice @ friend','seen lights @ friend', 'seen apps @ friend', 'seen none @ friend', \n",
    "                     'seen camera @ neighbor', 'seen voice @ neighbor', 'seen lights @ neighbor', 'seen apps @ neighbor', 'seen none @ neighbor', \n",
    "                     'seen camera @ rental', 'seen voice @ rental', 'seen lights @ rental', 'seen apps @ rental', 'seen none @ rental', \n",
    "                     'seen camera @ work', 'seen voice @ work', 'seen lights @ work', 'seen apps @ work', 'seen none @ work', \n",
    "                     'seen @ other', \n",
    "                     'prefs @ home - camera', 'prefs @ home - voice', 'prefs @ home - lights', 'prefs @ home - apps', 'actions @ home',\n",
    "                     'willing to turn off for neighbors', 'willing to turn off for housemates', 'willing to turn off for friends', \n",
    "                     'willing to turn off for workers', \n",
    "                     'prefs @ neighbors - camera', 'prefs @ neighbors - voice', 'prefs @ neighbors -lights', 'prefs @ neighbors - apps', 'actions @ neighbors', \n",
    "                     'prefs  @ friends - camera', 'prefs  @ friends - voice', 'prefs  @ friends - lights', 'prefs  @ friends - apps', 'actions @ friends', \n",
    "                     'prefs @ work - camera', 'prefs @ work - voice', 'prefs @ work - lights', 'prefs @ work - apps', 'actions @ work', \n",
    "                     'prefs @ rental - camera', 'prefs @ rental - voice', 'prefs @ rental - lights', 'prefs @ rental - apps', 'actions @ rental', \n",
    "                     'solutions - device present', 'solutions - exactly where', 'solutions - data type capable', \n",
    "                     'solutions - data actually collected', 'solutions - data currently collected', 'solutions - adapt behavior',\n",
    "                     'solutions - minimal effort from me (IU)', 'solutions - minimal effort from owner', 'solutions - social conventions',\n",
    "                     'solutions - avoid data collection', 'other solutions', \n",
    "                     'age', 'housemates', 'housemates - other', 'gender', 'gender - write-in', 'race', 'education', \n",
    "                     'employment status', 'profession', 'household income', 'purhased installed configured iot?', 'feedeback on survey'\n",
    "                    ]"
   ]
  },
  {
   "cell_type": "code",
   "execution_count": 15,
   "metadata": {},
   "outputs": [
    {
     "data": {
      "text/plain": [
       "30"
      ]
     },
     "execution_count": 15,
     "metadata": {},
     "output_type": "execute_result"
    }
   ],
   "source": [
    "existing_structure.index('seen camera @ work')"
   ]
  },
  {
   "cell_type": "code",
   "execution_count": 16,
   "metadata": {},
   "outputs": [],
   "source": [
    "lookup_pref_data_index = {'camera@home': 36, 'voice@home': 37, 'lights@home': 38, 'apps@home': 39,\n",
    "                         'camera@neighbor': 45, 'voice@neighbor': 46, 'lights@neighbor': 47, 'apps@neighbor': 48,\n",
    "                         'camera@friend': 50, 'voice@friend': 51, 'lights@friend': 52, 'apps@friend': 53, \n",
    "                         'camera@work': 55, 'voice@work': 56, 'lights@work': 57, 'apps@work': 58,\n",
    "                         'camera@rental': 60, 'voice@rental': 61, 'lights@rental': 62, 'apps@rental': 63}\n",
    "lookup_seen_data_index = {'camera@home': 5, 'voice@home': 6, 'lights@home': 7, 'apps@home': 8,\n",
    "                         'camera@neighbor': 20, 'voice@neighbor': 21, 'lights@neighbor': 22, 'apps@neighbor': 23,\n",
    "                         'camera@friend': 15, 'voice@friend': 16, 'lights@friend': 17, 'apps@friend': 18, \n",
    "                         'camera@work': 30, 'voice@work': 31, 'lights@work': 32, 'apps@work': 33,\n",
    "                         'camera@rental': 25, 'voice@rental': 26, 'lights@rental': 27, 'apps@rental': 28}\n",
    "\n",
    "def create_transformed_rows(existing_row): \n",
    "    new_rows = []\n",
    "    # home camera\n",
    "    for device in ['camera', 'voice', 'lights', 'apps']: \n",
    "        for situation in ['home', 'neighbor', 'friend', 'work', 'rental']:\n",
    "            new_rows.append([device, situation, existing_row[lookup_seen_data_index[device+'@'+situation]], \n",
    "                       existing_row[lookup_pref_data_index[device+'@'+situation]]] + existing_row)\n",
    "    return new_rows"
   ]
  },
  {
   "cell_type": "code",
   "execution_count": null,
   "metadata": {},
   "outputs": [],
   "source": []
  },
  {
   "cell_type": "code",
   "execution_count": null,
   "metadata": {},
   "outputs": [],
   "source": []
  }
 ],
 "metadata": {
  "kernelspec": {
   "display_name": "Python 3",
   "language": "python",
   "name": "python3"
  },
  "language_info": {
   "codemirror_mode": {
    "name": "ipython",
    "version": 2
   },
   "file_extension": ".py",
   "mimetype": "text/x-python",
   "name": "python",
   "nbconvert_exporter": "python",
   "pygments_lexer": "ipython2",
   "version": "2.7.16"
  }
 },
 "nbformat": 4,
 "nbformat_minor": 2
}
